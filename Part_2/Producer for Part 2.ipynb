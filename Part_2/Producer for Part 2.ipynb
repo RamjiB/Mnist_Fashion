{
 "cells": [
  {
   "cell_type": "code",
   "execution_count": 1,
   "id": "08bc480e",
   "metadata": {},
   "outputs": [],
   "source": [
    "from kafka import KafkaProducer\n",
    "from time import sleep\n",
    "from json import dumps\n",
    "import numpy as np\n",
    "\n",
    "#for fashion\n",
    "import pandas as pd\n",
    "from fashion_mnist_prediction import prediction"
   ]
  },
  {
   "cell_type": "markdown",
   "id": "70f2bcd0",
   "metadata": {},
   "source": [
    "## Part 2"
   ]
  },
  {
   "cell_type": "markdown",
   "id": "836b168a",
   "metadata": {},
   "source": [
    "**Steps**\n",
    " - Install Java\n",
    " - Install kafka \n",
    " - Start the zookeeper and server and keep running\n",
    "  - Zookeeper command : \"/Applications/kafka_2.13-3.0.0/bin/zookeeper-server-start.sh config/zookeeper.properties\"\n",
    "  - Server command : \"/Applications/kafka_2.13-3.0.0/bin/kafka-server-start.sh /Applications/kafka_2.13-3.0.0/config/server.properties\"\n",
    " - Create the topic\n",
    " - Create Producer \n",
    " - Create Consumer"
   ]
  },
  {
   "cell_type": "code",
   "execution_count": 2,
   "id": "d081b0ac",
   "metadata": {},
   "outputs": [
    {
     "name": "stdout",
     "output_type": "stream",
     "text": [
      "WARNING: Due to limitations in metric names, topics with a period ('.') or underscore ('_') could collide. To avoid issues it is best to use either, but not both.\n",
      "Created topic part_2.\n"
     ]
    }
   ],
   "source": [
    "#creating topic\n",
    "!/Applications/kafka_2.13-3.0.0/bin/kafka-topics.sh --create --topic part_2 --bootstrap-server localhost:9092 --replication-factor 1 --partitions 1"
   ]
  },
  {
   "cell_type": "code",
   "execution_count": 3,
   "id": "39dcc5e6",
   "metadata": {},
   "outputs": [
    {
     "name": "stdout",
     "output_type": "stream",
     "text": [
      "__consumer_offsets\r\n",
      "part_1\r\n",
      "part_2\r\n",
      "test\r\n"
     ]
    }
   ],
   "source": [
    "!/Applications/kafka_2.13-3.0.0/bin/kafka-topics.sh --list --bootstrap-server localhost:9092"
   ]
  },
  {
   "cell_type": "code",
   "execution_count": 4,
   "id": "d00b0c31",
   "metadata": {},
   "outputs": [],
   "source": [
    "#initialize the producer\n",
    "producer = KafkaProducer(bootstrap_servers=['localhost:9092'],\n",
    "                        value_serializer=lambda x: \n",
    "                         dumps(x).encode('utf-8'))\n",
    "\n",
    "#created a topic named part_1\n",
    "message = 'Message: '\n",
    "for i in range(10):\n",
    "    producer.send('part_2', value = message+str(i))\n",
    "    sleep(2)\n",
    "producer.close()"
   ]
  }
 ],
 "metadata": {
  "kernelspec": {
   "display_name": "Python 3",
   "language": "python",
   "name": "python3"
  },
  "language_info": {
   "codemirror_mode": {
    "name": "ipython",
    "version": 3
   },
   "file_extension": ".py",
   "mimetype": "text/x-python",
   "name": "python",
   "nbconvert_exporter": "python",
   "pygments_lexer": "ipython3",
   "version": "3.8.8"
  }
 },
 "nbformat": 4,
 "nbformat_minor": 5
}
