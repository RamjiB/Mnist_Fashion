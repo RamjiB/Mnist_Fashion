{
 "cells": [
  {
   "cell_type": "code",
   "execution_count": 2,
   "id": "192b2690",
   "metadata": {},
   "outputs": [
    {
     "name": "stdout",
     "output_type": "stream",
     "text": [
      "Number of Train Images: 60000\n",
      "Number of Test Images: 10000\n",
      "Number of Classes in Trian_images: 10\n",
      "Number of Classes in Test_images: 10\n",
      "Exception: Input image or Label of train/test is not as per requirement\n"
     ]
    }
   ],
   "source": [
    "import pandas as pd\n",
    "import numpy as np\n",
    "from train import train\n",
    "\n",
    "train_df = pd.read_csv('data/train_data.csv')\n",
    "test_df = pd.read_csv('data/test_data.csv')\n",
    "y_train = train_df['Label'].values\n",
    "x_train = train_df.drop('Label', axis=1)\n",
    "y_test = test_df['Label'].values\n",
    "x_test = test_df.drop('Label', axis=1)\n",
    "x_train = np.reshape(x_train.values, (len(x_train), 28, 28))\n",
    "x_test = np.reshape(x_test.values, (len(x_test), 28, 28))\n",
    "print('Number of Train Images: '+str(len(x_train)))\n",
    "print('Number of Test Images: '+str(len(x_test)))\n",
    "print('Number of Classes in Trian_images: ' + str(len(np.unique(y_train))))\n",
    "print('Number of Classes in Test_images: ' + str(len(np.unique(y_test))))\n",
    "# train(x_train[:10], y_train[:10], x_test[:5], y_test[:5], epochs=1, model_folder_path='models')"
   ]
  }
 ],
 "metadata": {
  "kernelspec": {
   "display_name": "Python 3",
   "language": "python",
   "name": "python3"
  },
  "language_info": {
   "codemirror_mode": {
    "name": "ipython",
    "version": 3
   },
   "file_extension": ".py",
   "mimetype": "text/x-python",
   "name": "python",
   "nbconvert_exporter": "python",
   "pygments_lexer": "ipython3",
   "version": "3.8.8"
  }
 },
 "nbformat": 4,
 "nbformat_minor": 5
}
