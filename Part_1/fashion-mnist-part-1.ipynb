{
 "cells": [
  {
   "cell_type": "code",
   "execution_count": 1,
   "id": "af9216e8",
   "metadata": {
    "_cell_guid": "b1076dfc-b9ad-4769-8c92-a6c4dae69d19",
    "_uuid": "8f2839f25d086af736a60e9eeb907d3b93b6e0e5",
    "execution": {
     "iopub.execute_input": "2021-11-20T06:57:58.542885Z",
     "iopub.status.busy": "2021-11-20T06:57:58.541655Z",
     "iopub.status.idle": "2021-11-20T06:58:03.661414Z",
     "shell.execute_reply": "2021-11-20T06:58:03.660655Z",
     "shell.execute_reply.started": "2021-11-20T06:56:50.132928Z"
    },
    "papermill": {
     "duration": 5.144531,
     "end_time": "2021-11-20T06:58:03.661584",
     "exception": false,
     "start_time": "2021-11-20T06:57:58.517053",
     "status": "completed"
    },
    "tags": []
   },
   "outputs": [],
   "source": [
    "import matplotlib.pyplot as plt\n",
    "import plotly.graph_objects as go\n",
    "import plotly.express as px\n",
    "from sklearn.model_selection import train_test_split\n",
    "import os\n",
    "import gzip\n",
    "import numpy as np\n",
    "import pandas as pd\n",
    "\n",
    "import torch\n",
    "import torch.nn as nn\n",
    "import torch.nn.functional as F\n",
    "from torchvision import models\n",
    "import math\n",
    "from torch.autograd import Variable\n",
    "from torchvision import datasets, models, transforms\n",
    "import torch.optim as optim\n",
    "\n",
    "import time\n",
    "\n",
    "np.random.seed(2021)"
   ]
  },
  {
   "cell_type": "markdown",
   "id": "c0c59a80",
   "metadata": {
    "papermill": {
     "duration": 0.012027,
     "end_time": "2021-11-20T06:58:03.687733",
     "exception": false,
     "start_time": "2021-11-20T06:58:03.675706",
     "status": "completed"
    },
    "tags": []
   },
   "source": [
    "## Loading the train and test data"
   ]
  },
  {
   "cell_type": "code",
   "execution_count": 2,
   "id": "e1d1299e",
   "metadata": {
    "execution": {
     "iopub.execute_input": "2021-11-20T06:58:03.718851Z",
     "iopub.status.busy": "2021-11-20T06:58:03.717942Z",
     "iopub.status.idle": "2021-11-20T06:58:11.644481Z",
     "shell.execute_reply": "2021-11-20T06:58:11.643894Z",
     "shell.execute_reply.started": "2021-11-16T07:04:44.640511Z"
    },
    "papermill": {
     "duration": 7.945821,
     "end_time": "2021-11-20T06:58:11.644677",
     "exception": false,
     "start_time": "2021-11-20T06:58:03.698856",
     "status": "completed"
    },
    "tags": []
   },
   "outputs": [
    {
     "name": "stdout",
     "output_type": "stream",
     "text": [
      "Number of Train Images: 60000\n",
      "Number of Test Images: 10000\n",
      "Number of Classes in Trian_images: 10\n",
      "Number of Classes in Test_images: 10\n"
     ]
    }
   ],
   "source": [
    "train_df = pd.read_csv('../input/mnist-fashion/train_data.csv')\n",
    "test_df = pd.read_csv('../input/mnist-fashion/test_data.csv')\n",
    "y_train = train_df['Label'].values\n",
    "x_train = train_df.drop('Label', axis=1)\n",
    "y_test = test_df['Label'].values\n",
    "x_test = test_df.drop('Label', axis=1)\n",
    "x_train = np.reshape(x_train.values, (len(x_train), 28, 28))\n",
    "x_test = np.reshape(x_test.values, (len(x_test), 28, 28))\n",
    "print('Number of Train Images: '+str(len(x_train)))\n",
    "print('Number of Test Images: '+str(len(x_test)))\n",
    "print('Number of Classes in Trian_images: ' + str(len(np.unique(y_train))))\n",
    "print('Number of Classes in Test_images: ' + str(len(np.unique(y_test))))\n"
   ]
  },
  {
   "cell_type": "markdown",
   "id": "2191a4ae",
   "metadata": {
    "execution": {
     "iopub.execute_input": "2021-11-16T06:18:13.590248Z",
     "iopub.status.busy": "2021-11-16T06:18:13.589977Z",
     "iopub.status.idle": "2021-11-16T06:18:13.594557Z",
     "shell.execute_reply": "2021-11-16T06:18:13.593603Z",
     "shell.execute_reply.started": "2021-11-16T06:18:13.590216Z"
    },
    "papermill": {
     "duration": 0.011396,
     "end_time": "2021-11-20T06:58:11.668227",
     "exception": false,
     "start_time": "2021-11-20T06:58:11.656831",
     "status": "completed"
    },
    "tags": []
   },
   "source": [
    "## Class Distribution in train and test images"
   ]
  },
  {
   "cell_type": "code",
   "execution_count": 3,
   "id": "4ac659a1",
   "metadata": {
    "execution": {
     "iopub.execute_input": "2021-11-20T06:58:11.700158Z",
     "iopub.status.busy": "2021-11-20T06:58:11.699134Z",
     "iopub.status.idle": "2021-11-20T06:58:11.791554Z",
     "shell.execute_reply": "2021-11-20T06:58:11.792186Z",
     "shell.execute_reply.started": "2021-11-16T07:04:51.26904Z"
    },
    "papermill": {
     "duration": 0.112471,
     "end_time": "2021-11-20T06:58:11.792500",
     "exception": false,
     "start_time": "2021-11-20T06:58:11.680029",
     "status": "completed"
    },
    "tags": []
   },
   "outputs": [
    {
     "data": {
      "text/html": [
       "        <script type=\"text/javascript\">\n",
       "        window.PlotlyConfig = {MathJaxConfig: 'local'};\n",
       "        if (window.MathJax) {MathJax.Hub.Config({SVG: {font: \"STIX-Web\"}});}\n",
       "        if (typeof require !== 'undefined') {\n",
       "        require.undef(\"plotly\");\n",
       "        requirejs.config({\n",
       "            paths: {\n",
       "                'plotly': ['https://cdn.plot.ly/plotly-2.4.2.min']\n",
       "            }\n",
       "        });\n",
       "        require(['plotly'], function(Plotly) {\n",
       "            window._Plotly = Plotly;\n",
       "        });\n",
       "        }\n",
       "        </script>\n",
       "        "
      ]
     },
     "metadata": {},
     "output_type": "display_data"
    },
    {
     "data": {
      "text/html": [
       "<div>                            <div id=\"409de54d-dba3-4fd9-8dc3-df91956dcf4f\" class=\"plotly-graph-div\" style=\"height:525px; width:100%;\"></div>            <script type=\"text/javascript\">                require([\"plotly\"], function(Plotly) {                    window.PLOTLYENV=window.PLOTLYENV || {};                                    if (document.getElementById(\"409de54d-dba3-4fd9-8dc3-df91956dcf4f\")) {                    Plotly.newPlot(                        \"409de54d-dba3-4fd9-8dc3-df91956dcf4f\",                        [{\"name\":\"Train\",\"text\":[6000.0,6000.0,6000.0,6000.0,6000.0,6000.0,6000.0,6000.0,6000.0,6000.0],\"type\":\"bar\",\"x\":[\"T-shirt/top\",\"Trouser\",\"Pullover\",\"Dress\",\"Coat\",\"Sandal\",\"Shirt\",\"Sneaker\",\"Bag\",\"Ankle Boot\"],\"y\":[6000,6000,6000,6000,6000,6000,6000,6000,6000,6000]},{\"name\":\"Test\",\"text\":[1000.0,1000.0,1000.0,1000.0,1000.0,1000.0,1000.0,1000.0,1000.0,1000.0],\"type\":\"bar\",\"x\":[\"T-shirt/top\",\"Trouser\",\"Pullover\",\"Dress\",\"Coat\",\"Sandal\",\"Shirt\",\"Sneaker\",\"Bag\",\"Ankle Boot\"],\"y\":[1000,1000,1000,1000,1000,1000,1000,1000,1000,1000]}],                        {\"barmode\":\"group\",\"template\":{\"data\":{\"bar\":[{\"error_x\":{\"color\":\"#2a3f5f\"},\"error_y\":{\"color\":\"#2a3f5f\"},\"marker\":{\"line\":{\"color\":\"#E5ECF6\",\"width\":0.5},\"pattern\":{\"fillmode\":\"overlay\",\"size\":10,\"solidity\":0.2}},\"type\":\"bar\"}],\"barpolar\":[{\"marker\":{\"line\":{\"color\":\"#E5ECF6\",\"width\":0.5},\"pattern\":{\"fillmode\":\"overlay\",\"size\":10,\"solidity\":0.2}},\"type\":\"barpolar\"}],\"carpet\":[{\"aaxis\":{\"endlinecolor\":\"#2a3f5f\",\"gridcolor\":\"white\",\"linecolor\":\"white\",\"minorgridcolor\":\"white\",\"startlinecolor\":\"#2a3f5f\"},\"baxis\":{\"endlinecolor\":\"#2a3f5f\",\"gridcolor\":\"white\",\"linecolor\":\"white\",\"minorgridcolor\":\"white\",\"startlinecolor\":\"#2a3f5f\"},\"type\":\"carpet\"}],\"choropleth\":[{\"colorbar\":{\"outlinewidth\":0,\"ticks\":\"\"},\"type\":\"choropleth\"}],\"contour\":[{\"colorbar\":{\"outlinewidth\":0,\"ticks\":\"\"},\"colorscale\":[[0.0,\"#0d0887\"],[0.1111111111111111,\"#46039f\"],[0.2222222222222222,\"#7201a8\"],[0.3333333333333333,\"#9c179e\"],[0.4444444444444444,\"#bd3786\"],[0.5555555555555556,\"#d8576b\"],[0.6666666666666666,\"#ed7953\"],[0.7777777777777778,\"#fb9f3a\"],[0.8888888888888888,\"#fdca26\"],[1.0,\"#f0f921\"]],\"type\":\"contour\"}],\"contourcarpet\":[{\"colorbar\":{\"outlinewidth\":0,\"ticks\":\"\"},\"type\":\"contourcarpet\"}],\"heatmap\":[{\"colorbar\":{\"outlinewidth\":0,\"ticks\":\"\"},\"colorscale\":[[0.0,\"#0d0887\"],[0.1111111111111111,\"#46039f\"],[0.2222222222222222,\"#7201a8\"],[0.3333333333333333,\"#9c179e\"],[0.4444444444444444,\"#bd3786\"],[0.5555555555555556,\"#d8576b\"],[0.6666666666666666,\"#ed7953\"],[0.7777777777777778,\"#fb9f3a\"],[0.8888888888888888,\"#fdca26\"],[1.0,\"#f0f921\"]],\"type\":\"heatmap\"}],\"heatmapgl\":[{\"colorbar\":{\"outlinewidth\":0,\"ticks\":\"\"},\"colorscale\":[[0.0,\"#0d0887\"],[0.1111111111111111,\"#46039f\"],[0.2222222222222222,\"#7201a8\"],[0.3333333333333333,\"#9c179e\"],[0.4444444444444444,\"#bd3786\"],[0.5555555555555556,\"#d8576b\"],[0.6666666666666666,\"#ed7953\"],[0.7777777777777778,\"#fb9f3a\"],[0.8888888888888888,\"#fdca26\"],[1.0,\"#f0f921\"]],\"type\":\"heatmapgl\"}],\"histogram\":[{\"marker\":{\"pattern\":{\"fillmode\":\"overlay\",\"size\":10,\"solidity\":0.2}},\"type\":\"histogram\"}],\"histogram2d\":[{\"colorbar\":{\"outlinewidth\":0,\"ticks\":\"\"},\"colorscale\":[[0.0,\"#0d0887\"],[0.1111111111111111,\"#46039f\"],[0.2222222222222222,\"#7201a8\"],[0.3333333333333333,\"#9c179e\"],[0.4444444444444444,\"#bd3786\"],[0.5555555555555556,\"#d8576b\"],[0.6666666666666666,\"#ed7953\"],[0.7777777777777778,\"#fb9f3a\"],[0.8888888888888888,\"#fdca26\"],[1.0,\"#f0f921\"]],\"type\":\"histogram2d\"}],\"histogram2dcontour\":[{\"colorbar\":{\"outlinewidth\":0,\"ticks\":\"\"},\"colorscale\":[[0.0,\"#0d0887\"],[0.1111111111111111,\"#46039f\"],[0.2222222222222222,\"#7201a8\"],[0.3333333333333333,\"#9c179e\"],[0.4444444444444444,\"#bd3786\"],[0.5555555555555556,\"#d8576b\"],[0.6666666666666666,\"#ed7953\"],[0.7777777777777778,\"#fb9f3a\"],[0.8888888888888888,\"#fdca26\"],[1.0,\"#f0f921\"]],\"type\":\"histogram2dcontour\"}],\"mesh3d\":[{\"colorbar\":{\"outlinewidth\":0,\"ticks\":\"\"},\"type\":\"mesh3d\"}],\"parcoords\":[{\"line\":{\"colorbar\":{\"outlinewidth\":0,\"ticks\":\"\"}},\"type\":\"parcoords\"}],\"pie\":[{\"automargin\":true,\"type\":\"pie\"}],\"scatter\":[{\"marker\":{\"colorbar\":{\"outlinewidth\":0,\"ticks\":\"\"}},\"type\":\"scatter\"}],\"scatter3d\":[{\"line\":{\"colorbar\":{\"outlinewidth\":0,\"ticks\":\"\"}},\"marker\":{\"colorbar\":{\"outlinewidth\":0,\"ticks\":\"\"}},\"type\":\"scatter3d\"}],\"scattercarpet\":[{\"marker\":{\"colorbar\":{\"outlinewidth\":0,\"ticks\":\"\"}},\"type\":\"scattercarpet\"}],\"scattergeo\":[{\"marker\":{\"colorbar\":{\"outlinewidth\":0,\"ticks\":\"\"}},\"type\":\"scattergeo\"}],\"scattergl\":[{\"marker\":{\"colorbar\":{\"outlinewidth\":0,\"ticks\":\"\"}},\"type\":\"scattergl\"}],\"scattermapbox\":[{\"marker\":{\"colorbar\":{\"outlinewidth\":0,\"ticks\":\"\"}},\"type\":\"scattermapbox\"}],\"scatterpolar\":[{\"marker\":{\"colorbar\":{\"outlinewidth\":0,\"ticks\":\"\"}},\"type\":\"scatterpolar\"}],\"scatterpolargl\":[{\"marker\":{\"colorbar\":{\"outlinewidth\":0,\"ticks\":\"\"}},\"type\":\"scatterpolargl\"}],\"scatterternary\":[{\"marker\":{\"colorbar\":{\"outlinewidth\":0,\"ticks\":\"\"}},\"type\":\"scatterternary\"}],\"surface\":[{\"colorbar\":{\"outlinewidth\":0,\"ticks\":\"\"},\"colorscale\":[[0.0,\"#0d0887\"],[0.1111111111111111,\"#46039f\"],[0.2222222222222222,\"#7201a8\"],[0.3333333333333333,\"#9c179e\"],[0.4444444444444444,\"#bd3786\"],[0.5555555555555556,\"#d8576b\"],[0.6666666666666666,\"#ed7953\"],[0.7777777777777778,\"#fb9f3a\"],[0.8888888888888888,\"#fdca26\"],[1.0,\"#f0f921\"]],\"type\":\"surface\"}],\"table\":[{\"cells\":{\"fill\":{\"color\":\"#EBF0F8\"},\"line\":{\"color\":\"white\"}},\"header\":{\"fill\":{\"color\":\"#C8D4E3\"},\"line\":{\"color\":\"white\"}},\"type\":\"table\"}]},\"layout\":{\"annotationdefaults\":{\"arrowcolor\":\"#2a3f5f\",\"arrowhead\":0,\"arrowwidth\":1},\"autotypenumbers\":\"strict\",\"coloraxis\":{\"colorbar\":{\"outlinewidth\":0,\"ticks\":\"\"}},\"colorscale\":{\"diverging\":[[0,\"#8e0152\"],[0.1,\"#c51b7d\"],[0.2,\"#de77ae\"],[0.3,\"#f1b6da\"],[0.4,\"#fde0ef\"],[0.5,\"#f7f7f7\"],[0.6,\"#e6f5d0\"],[0.7,\"#b8e186\"],[0.8,\"#7fbc41\"],[0.9,\"#4d9221\"],[1,\"#276419\"]],\"sequential\":[[0.0,\"#0d0887\"],[0.1111111111111111,\"#46039f\"],[0.2222222222222222,\"#7201a8\"],[0.3333333333333333,\"#9c179e\"],[0.4444444444444444,\"#bd3786\"],[0.5555555555555556,\"#d8576b\"],[0.6666666666666666,\"#ed7953\"],[0.7777777777777778,\"#fb9f3a\"],[0.8888888888888888,\"#fdca26\"],[1.0,\"#f0f921\"]],\"sequentialminus\":[[0.0,\"#0d0887\"],[0.1111111111111111,\"#46039f\"],[0.2222222222222222,\"#7201a8\"],[0.3333333333333333,\"#9c179e\"],[0.4444444444444444,\"#bd3786\"],[0.5555555555555556,\"#d8576b\"],[0.6666666666666666,\"#ed7953\"],[0.7777777777777778,\"#fb9f3a\"],[0.8888888888888888,\"#fdca26\"],[1.0,\"#f0f921\"]]},\"colorway\":[\"#636efa\",\"#EF553B\",\"#00cc96\",\"#ab63fa\",\"#FFA15A\",\"#19d3f3\",\"#FF6692\",\"#B6E880\",\"#FF97FF\",\"#FECB52\"],\"font\":{\"color\":\"#2a3f5f\"},\"geo\":{\"bgcolor\":\"white\",\"lakecolor\":\"white\",\"landcolor\":\"#E5ECF6\",\"showlakes\":true,\"showland\":true,\"subunitcolor\":\"white\"},\"hoverlabel\":{\"align\":\"left\"},\"hovermode\":\"closest\",\"mapbox\":{\"style\":\"light\"},\"paper_bgcolor\":\"white\",\"plot_bgcolor\":\"#E5ECF6\",\"polar\":{\"angularaxis\":{\"gridcolor\":\"white\",\"linecolor\":\"white\",\"ticks\":\"\"},\"bgcolor\":\"#E5ECF6\",\"radialaxis\":{\"gridcolor\":\"white\",\"linecolor\":\"white\",\"ticks\":\"\"}},\"scene\":{\"xaxis\":{\"backgroundcolor\":\"#E5ECF6\",\"gridcolor\":\"white\",\"gridwidth\":2,\"linecolor\":\"white\",\"showbackground\":true,\"ticks\":\"\",\"zerolinecolor\":\"white\"},\"yaxis\":{\"backgroundcolor\":\"#E5ECF6\",\"gridcolor\":\"white\",\"gridwidth\":2,\"linecolor\":\"white\",\"showbackground\":true,\"ticks\":\"\",\"zerolinecolor\":\"white\"},\"zaxis\":{\"backgroundcolor\":\"#E5ECF6\",\"gridcolor\":\"white\",\"gridwidth\":2,\"linecolor\":\"white\",\"showbackground\":true,\"ticks\":\"\",\"zerolinecolor\":\"white\"}},\"shapedefaults\":{\"line\":{\"color\":\"#2a3f5f\"}},\"ternary\":{\"aaxis\":{\"gridcolor\":\"white\",\"linecolor\":\"white\",\"ticks\":\"\"},\"baxis\":{\"gridcolor\":\"white\",\"linecolor\":\"white\",\"ticks\":\"\"},\"bgcolor\":\"#E5ECF6\",\"caxis\":{\"gridcolor\":\"white\",\"linecolor\":\"white\",\"ticks\":\"\"}},\"title\":{\"x\":0.05},\"xaxis\":{\"automargin\":true,\"gridcolor\":\"white\",\"linecolor\":\"white\",\"ticks\":\"\",\"title\":{\"standoff\":15},\"zerolinecolor\":\"white\",\"zerolinewidth\":2},\"yaxis\":{\"automargin\":true,\"gridcolor\":\"white\",\"linecolor\":\"white\",\"ticks\":\"\",\"title\":{\"standoff\":15},\"zerolinecolor\":\"white\",\"zerolinewidth\":2}}},\"xaxis\":{\"title\":{\"text\":\"Class\"}},\"yaxis\":{\"title\":{\"text\":\"Numbe rof Images\"}}},                        {\"responsive\": true}                    ).then(function(){\n",
       "                            \n",
       "var gd = document.getElementById('409de54d-dba3-4fd9-8dc3-df91956dcf4f');\n",
       "var x = new MutationObserver(function (mutations, observer) {{\n",
       "        var display = window.getComputedStyle(gd).display;\n",
       "        if (!display || display === 'none') {{\n",
       "            console.log([gd, 'removed!']);\n",
       "            Plotly.purge(gd);\n",
       "            observer.disconnect();\n",
       "        }}\n",
       "}});\n",
       "\n",
       "// Listen for the removal of the full notebook cells\n",
       "var notebookContainer = gd.closest('#notebook-container');\n",
       "if (notebookContainer) {{\n",
       "    x.observe(notebookContainer, {childList: true});\n",
       "}}\n",
       "\n",
       "// Listen for the clearing of the current output cell\n",
       "var outputEl = gd.closest('.output');\n",
       "if (outputEl) {{\n",
       "    x.observe(outputEl, {childList: true});\n",
       "}}\n",
       "\n",
       "                        })                };                });            </script>        </div>"
      ]
     },
     "metadata": {},
     "output_type": "display_data"
    }
   ],
   "source": [
    "class_name = {0 : 'T-shirt/top', 1:'Trouser', 2:'Pullover', 3:'Dress', 4:'Coat',5:'Sandal', 6:'Shirt', \n",
    "             7: 'Sneaker', 8: 'Bag', 9:'Ankle Boot'}\n",
    "train_class, train_counts = np.unique(y_train, return_counts=True)\n",
    "test_class, test_counts = np.unique(y_test, return_counts=True)\n",
    "classes = list(class_name.values())\n",
    "fig = go.Figure(data=[\n",
    "    go.Bar(name='Train', x=classes, y=train_counts, text=train_counts),\n",
    "    go.Bar(name='Test', x=classes, y=test_counts, text=test_counts)\n",
    "])\n",
    "# Change the bar mode\n",
    "fig.update_layout(barmode='group',xaxis_title=\"Class\",\n",
    "                    yaxis_title=\"Numbe rof Images\",)\n",
    "fig.show()"
   ]
  },
  {
   "cell_type": "code",
   "execution_count": 4,
   "id": "bbe72e58",
   "metadata": {
    "execution": {
     "iopub.execute_input": "2021-11-20T06:58:11.826858Z",
     "iopub.status.busy": "2021-11-20T06:58:11.825731Z",
     "iopub.status.idle": "2021-11-20T06:58:13.733304Z",
     "shell.execute_reply": "2021-11-20T06:58:13.732288Z",
     "shell.execute_reply.started": "2021-11-16T07:04:51.35587Z"
    },
    "papermill": {
     "duration": 1.927268,
     "end_time": "2021-11-20T06:58:13.733495",
     "exception": false,
     "start_time": "2021-11-20T06:58:11.806227",
     "status": "completed"
    },
    "tags": []
   },
   "outputs": [
    {
     "data": {
      "image/png": "[encoded data removed]",
      "text/plain": [
       "<Figure size 1440x360 with 5 Axes>"
      ]
     },
     "metadata": {
      "needs_background": "light"
     },
     "output_type": "display_data"
    },
    {
     "data": {
      "image/png": "[encoded data removed]",
      "text/plain": [
       "<Figure size 1440x360 with 5 Axes>"
      ]
     },
     "metadata": {
      "needs_background": "light"
     },
     "output_type": "display_data"
    }
   ],
   "source": [
    "for idx, class_ in enumerate(train_class):\n",
    "    img_idx = np.where(y_train == class_)[0][0]\n",
    "    image = x_train[img_idx]\n",
    "    \n",
    "    if idx%5 == 0:\n",
    "        plt.figure(figsize=(20,5))\n",
    "    plt.subplot(1, 5, idx%5+1)\n",
    "    plt.imshow(image, cmap='gray')\n",
    "    plt.title(class_name[class_])"
   ]
  },
  {
   "cell_type": "markdown",
   "id": "dfaa3459",
   "metadata": {
    "papermill": {
     "duration": 0.01504,
     "end_time": "2021-11-20T06:58:13.764194",
     "exception": false,
     "start_time": "2021-11-20T06:58:13.749154",
     "status": "completed"
    },
    "tags": []
   },
   "source": [
    "## CNN Model"
   ]
  },
  {
   "cell_type": "code",
   "execution_count": 5,
   "id": "377bc448",
   "metadata": {
    "execution": {
     "iopub.execute_input": "2021-11-20T06:58:13.821910Z",
     "iopub.status.busy": "2021-11-20T06:58:13.813903Z",
     "iopub.status.idle": "2021-11-20T06:58:13.825614Z",
     "shell.execute_reply": "2021-11-20T06:58:13.824551Z",
     "shell.execute_reply.started": "2021-11-16T07:04:54.900914Z"
    },
    "papermill": {
     "duration": 0.046654,
     "end_time": "2021-11-20T06:58:13.825815",
     "exception": false,
     "start_time": "2021-11-20T06:58:13.779161",
     "status": "completed"
    },
    "tags": []
   },
   "outputs": [],
   "source": [
    "\n",
    "###############################################################################\n",
    "#                                ResNet                                       #\n",
    "###############################################################################\n",
    "\n",
    "\n",
    "def conv3x3(in_planes, out_planes, stride=1):\n",
    "    \"3x3 convolution with padding\"\n",
    "    return nn.Conv2d(in_planes, out_planes, kernel_size=3, stride=stride,\n",
    "                     padding=1, bias=False)\n",
    "\n",
    "\n",
    "class BasicBlock(nn.Module):\n",
    "    expansion = 1\n",
    "\n",
    "    def __init__(self, inplanes, planes, stride=1, downsample=None):\n",
    "        super(BasicBlock, self).__init__()\n",
    "        self.conv1 = conv3x3(inplanes, planes, stride)\n",
    "        self.bn1 = nn.BatchNorm2d(planes)\n",
    "        self.relu = nn.ReLU(inplace=True)\n",
    "        self.conv2 = conv3x3(planes, planes)\n",
    "        self.bn2 = nn.BatchNorm2d(planes)\n",
    "        self.downsample = downsample\n",
    "        self.stride = stride\n",
    "\n",
    "    def forward(self, x):\n",
    "        residual = x\n",
    "\n",
    "        out = self.conv1(x)\n",
    "        out = self.bn1(out)\n",
    "        out = self.relu(out)\n",
    "\n",
    "        out = self.conv2(out)\n",
    "        out = self.bn2(out)\n",
    "\n",
    "        if self.downsample is not None:\n",
    "            residual = self.downsample(x)\n",
    "\n",
    "        out += residual\n",
    "        out = self.relu(out)\n",
    "\n",
    "        return out\n",
    "\n",
    "class ResNet(nn.Module):\n",
    "\n",
    "    def __init__(self, block, layers, num_classes=10):\n",
    "        self.inplanes = 64\n",
    "        super(ResNet, self).__init__()\n",
    "        self.conv1 = nn.Conv2d(1, 64, kernel_size=3, stride=1, padding=1,\n",
    "                               bias=False)\n",
    "        self.bn1 = nn.BatchNorm2d(64)\n",
    "        self.relu = nn.ReLU(inplace=True)\n",
    "        # self.maxpool = nn.MaxPool2d(kernel_size=3, stride=2, padding=1)\n",
    "        self.layer1 = self._make_layer(block, 64, layers[0])\n",
    "        self.layer2 = self._make_layer(block, 128, layers[1], stride=2)\n",
    "        self.layer3 = self._make_layer(block, 256, layers[2], stride=2)\n",
    "        # self.layer4 = self._make_layer(block, 512, layers[3], stride=2)\n",
    "        self.avgpool = nn.AvgPool2d(7)\n",
    "        self.fc = nn.Linear(256 * block.expansion, num_classes)\n",
    "\n",
    "        for m in self.modules():\n",
    "            if isinstance(m, nn.Conv2d):\n",
    "                n = m.kernel_size[0] * m.kernel_size[1] * m.out_channels\n",
    "                m.weight.data.normal_(0, math.sqrt(2. / n))\n",
    "            elif isinstance(m, nn.BatchNorm2d):\n",
    "                m.weight.data.fill_(1)\n",
    "                m.bias.data.zero_()\n",
    "\n",
    "    def _make_layer(self, block, planes, blocks, stride=1):\n",
    "        downsample = None\n",
    "        if stride != 1 or self.inplanes != planes * block.expansion:\n",
    "            downsample = nn.Sequential(\n",
    "                nn.Conv2d(self.inplanes, planes * block.expansion,\n",
    "                          kernel_size=1, stride=stride, bias=False),\n",
    "                nn.BatchNorm2d(planes * block.expansion),\n",
    "            )\n",
    "\n",
    "        layers = []\n",
    "        layers.append(block(self.inplanes, planes, stride, downsample))\n",
    "        self.inplanes = planes * block.expansion\n",
    "        for i in range(1, blocks):\n",
    "            layers.append(block(self.inplanes, planes))\n",
    "\n",
    "        return nn.Sequential(*layers)\n",
    "\n",
    "    def forward(self, x):\n",
    "        x = self.conv1(x)\n",
    "        x = self.bn1(x)\n",
    "        x = self.relu(x)\n",
    "        # x = self.maxpool(x)\n",
    "\n",
    "        x = self.layer1(x)\n",
    "        x = self.layer2(x)\n",
    "        x = self.layer3(x)\n",
    "        # x = self.layer4(x)\n",
    "\n",
    "        x = self.avgpool(x)\n",
    "        x = x.view(x.size(0), -1)\n",
    "        x = self.fc(x)\n",
    "\n",
    "        return x\n",
    "\n",
    "\n",
    "def resnet18(pretrained=False, **kwargs):\n",
    "    \"\"\"Constructs a ResNet-18 model.\n",
    "    Args:\n",
    "        pretrained (bool): If True, returns a model pre-trained on ImageNet\n",
    "    \"\"\"\n",
    "    model = ResNet(BasicBlock, [2, 2, 2, 2], **kwargs)\n",
    "    if pretrained:\n",
    "        model.load_state_dict(model_zoo.load_url(model_urls['resnet18']))\n",
    "    return model\n"
   ]
  },
  {
   "cell_type": "code",
   "execution_count": 6,
   "id": "1202ceb7",
   "metadata": {
    "execution": {
     "iopub.execute_input": "2021-11-20T06:58:13.865636Z",
     "iopub.status.busy": "2021-11-20T06:58:13.864931Z",
     "iopub.status.idle": "2021-11-20T06:58:13.869381Z",
     "shell.execute_reply": "2021-11-20T06:58:13.869903Z",
     "shell.execute_reply.started": "2021-11-16T07:23:07.654016Z"
    },
    "papermill": {
     "duration": 0.029752,
     "end_time": "2021-11-20T06:58:13.870072",
     "exception": false,
     "start_time": "2021-11-20T06:58:13.840320",
     "status": "completed"
    },
    "tags": []
   },
   "outputs": [],
   "source": [
    "def run_model(net, loader, criterion, optimizer, train = True):\n",
    "    running_loss = 0\n",
    "    running_accuracy = 0\n",
    "    device = torch.device('cuda') if torch.cuda.is_available() else torch.device('cpu')\n",
    "    \n",
    "    net.to(device)\n",
    "    # Set mode\n",
    "    if train:\n",
    "        net.train()\n",
    "    else:\n",
    "        net.eval()\n",
    "\n",
    "\n",
    "    for i, (X, y) in enumerate(loader):\n",
    "        # Pass to gpu or cpu\n",
    "        y = y.type(torch.LongTensor)\n",
    "        X, y = X.to(device, dtype=torch.float), y.to(device)\n",
    "\n",
    "        # Zero the gradient\n",
    "        optimizer.zero_grad()\n",
    "\n",
    "        with torch.set_grad_enabled(train):\n",
    "            output = net(X)\n",
    "            _, pred = torch.max(output, 1)\n",
    "            loss = criterion(output, y)\n",
    "\n",
    "        # If on train backpropagate\n",
    "        if train:\n",
    "            loss.backward()\n",
    "            optimizer.step()\n",
    "\n",
    "        # Calculate stats\n",
    "        running_loss += loss.item()\n",
    "        running_accuracy += torch.sum(pred == y.detach())\n",
    "    return running_loss / len(loader), running_accuracy.double() / len(loader.dataset)"
   ]
  },
  {
   "cell_type": "code",
   "execution_count": 7,
   "id": "6a305742",
   "metadata": {
    "execution": {
     "iopub.execute_input": "2021-11-20T06:58:13.908711Z",
     "iopub.status.busy": "2021-11-20T06:58:13.907434Z",
     "iopub.status.idle": "2021-11-20T06:58:13.911213Z",
     "shell.execute_reply": "2021-11-20T06:58:13.910600Z",
     "shell.execute_reply.started": "2021-11-16T07:19:40.841196Z"
    },
    "papermill": {
     "duration": 0.026051,
     "end_time": "2021-11-20T06:58:13.911381",
     "exception": false,
     "start_time": "2021-11-20T06:58:13.885330",
     "status": "completed"
    },
    "tags": []
   },
   "outputs": [],
   "source": [
    "class Dataset():\n",
    "    def __init__(self, images, labels):\n",
    "        self.transforms = data_transforms\n",
    "        # load all image files\n",
    "        self.images = images\n",
    "        self.labels = labels\n",
    "        \n",
    "    def __getitem__(self, idx):\n",
    "        image = self.images[idx]\n",
    "        label = torch.tensor(self.labels[idx])\n",
    "#         y = np.zeros((10))\n",
    "#         y[label] = 1\n",
    "        image = self.transforms(image.astype(np.float))\n",
    "#         print(image.shape,label)\n",
    "        return image, label\n",
    "\n",
    "    def __len__(self):\n",
    "        return len(self.images)"
   ]
  },
  {
   "cell_type": "markdown",
   "id": "1d69e8e2",
   "metadata": {
    "papermill": {
     "duration": 0.015117,
     "end_time": "2021-11-20T06:58:13.941520",
     "exception": false,
     "start_time": "2021-11-20T06:58:13.926403",
     "status": "completed"
    },
    "tags": []
   },
   "source": [
    "## Training"
   ]
  },
  {
   "cell_type": "code",
   "execution_count": 8,
   "id": "01e4f58a",
   "metadata": {
    "execution": {
     "iopub.execute_input": "2021-11-20T06:58:13.987086Z",
     "iopub.status.busy": "2021-11-20T06:58:13.986183Z",
     "iopub.status.idle": "2021-11-20T07:29:00.773049Z",
     "shell.execute_reply": "2021-11-20T07:29:00.773923Z",
     "shell.execute_reply.started": "2021-11-16T07:29:25.820739Z"
    },
    "papermill": {
     "duration": 1846.817423,
     "end_time": "2021-11-20T07:29:00.774199",
     "exception": false,
     "start_time": "2021-11-20T06:58:13.956776",
     "status": "completed"
    },
    "tags": []
   },
   "outputs": [
    {
     "name": "stdout",
     "output_type": "stream",
     "text": [
      "Epoch: 1\t train loss: 0.464, train acc: 0.832\t\n",
      "            val loss: 0.299, val acc: 0.894\t\n",
      "            time: 313.2s\n",
      "Epoch: 2\t train loss: 0.265, train acc: 0.904\t\n",
      "            val loss: 0.241, val acc: 0.915\t\n",
      "            time: 306.7s\n",
      "Epoch: 3\t train loss: 0.202, train acc: 0.927\t\n",
      "            val loss: 0.229, val acc: 0.921\t\n",
      "            time: 309.7s\n",
      "Epoch: 4\t train loss: 0.155, train acc: 0.945\t\n",
      "            val loss: 0.240, val acc: 0.922\t\n",
      "            time: 306.4s\n",
      "Epoch: 5\t train loss: 0.112, train acc: 0.959\t\n",
      "            val loss: 0.277, val acc: 0.923\t\n",
      "            time: 305.1s\n",
      "Epoch: 6\t train loss: 0.079, train acc: 0.972\t\n",
      "            val loss: 0.331, val acc: 0.916\t\n",
      "            time: 305.3s\n",
      "Run out of patience!\n"
     ]
    }
   ],
   "source": [
    "# Define transforms.\n",
    "data_transforms = transforms.Compose([\n",
    "    transforms.ToTensor(),\n",
    "    transforms.Normalize((0.1307,), (0.3081,))\n",
    "])\n",
    "\n",
    "net = resnet18()\n",
    "# Train Dataset loader for pytorch model\n",
    "train_dataset = Dataset(x_train, y_train)\n",
    "train_data_loader = torch.utils.data.DataLoader(train_dataset, batch_size=4)\n",
    "\n",
    "test_dataset = Dataset(x_test, y_test)\n",
    "test_data_loader = torch.utils.data.DataLoader(test_dataset, batch_size=4)\n",
    "criterion = torch.nn.CrossEntropyLoss()\n",
    "# Define optimizer\n",
    "optimizer = optim.Adam(net.parameters())\n",
    "num_epochs = 50\n",
    "patience = 3\n",
    "best_loss = 1e4\n",
    "def save_model(model_state, filename):\n",
    "    \"\"\" Save model \"\"\"\n",
    "    # TODO: add it as checkpoint\n",
    "    torch.save(model_state,filename)\n",
    "\n",
    "device = torch.device('cuda') if torch.cuda.is_available() else torch.device('cpu')\n",
    "\n",
    "for e in range(num_epochs):\n",
    "    start = time.time()\n",
    "    train_loss, train_acc = run_model(net, train_data_loader,\n",
    "                                  criterion, optimizer)\n",
    "    val_loss, val_acc = run_model(net, test_data_loader,\n",
    "                                  criterion, optimizer, False)\n",
    "    end = time.time()\n",
    "\n",
    "    # print stats\n",
    "    stats = \"\"\"Epoch: {}\\t train loss: {:.3f}, train acc: {:.3f}\\t\n",
    "            val loss: {:.3f}, val acc: {:.3f}\\t\n",
    "            time: {:.1f}s\"\"\".format(e+1, train_loss, train_acc, val_loss,\n",
    "                                    val_acc, end - start)\n",
    "    print(stats)\n",
    "    if val_loss < best_loss:\n",
    "        best_loss = val_loss\n",
    "        patience = patience\n",
    "        save_model({\n",
    "            'arch': 'Resnet-18',\n",
    "            'state_dict': net.state_dict()\n",
    "        }, '{}-epoch-{}.pth'.format('Resnet-18', e))\n",
    "    else:\n",
    "        patience -= 1\n",
    "        if patience == 0:\n",
    "            print('Run out of patience!')\n",
    "            break\n",
    "\n"
   ]
  },
  {
   "cell_type": "code",
   "execution_count": null,
   "id": "14ee3289",
   "metadata": {
    "papermill": {
     "duration": 0.01684,
     "end_time": "2021-11-20T07:29:00.809354",
     "exception": false,
     "start_time": "2021-11-20T07:29:00.792514",
     "status": "completed"
    },
    "tags": []
   },
   "outputs": [],
   "source": []
  }
 ],
 "metadata": {
  "kernelspec": {
   "display_name": "Python 3",
   "language": "python",
   "name": "python3"
  },
  "language_info": {
   "codemirror_mode": {
    "name": "ipython",
    "version": 3
   },
   "file_extension": ".py",
   "mimetype": "text/x-python",
   "name": "python",
   "nbconvert_exporter": "python",
   "pygments_lexer": "ipython3",
   "version": "3.8.8"
  },
  "papermill": {
   "default_parameters": {},
   "duration": 1873.979057,
   "end_time": "2021-11-20T07:29:03.094442",
   "environment_variables": {},
   "exception": null,
   "input_path": "__notebook__.ipynb",
   "output_path": "__notebook__.ipynb",
   "parameters": {},
   "start_time": "2021-11-20T06:57:49.115385",
   "version": "2.3.3"
  }
 },
 "nbformat": 4,
 "nbformat_minor": 5
}
