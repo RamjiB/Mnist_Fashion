{
 "cells": [
  {
   "cell_type": "code",
   "execution_count": 3,
   "id": "a8b3f70b",
   "metadata": {},
   "outputs": [],
   "source": [
    "from kafka import KafkaProducer\n",
    "from time import sleep\n",
    "from json import dumps\n",
    "import numpy as np\n",
    "np.random.seed(41)\n",
    "\n",
    "from kafka import KafkaConsumer\n",
    "from json import loads\n",
    "\n",
    "#for fashion\n",
    "import pandas as pd\n",
    "from fashion_mnist_prediction import prediction"
   ]
  },
  {
   "cell_type": "code",
   "execution_count": 2,
   "id": "297722e5",
   "metadata": {},
   "outputs": [
    {
     "name": "stdout",
     "output_type": "stream",
     "text": [
      "WARNING: Due to limitations in metric names, topics with a period ('.') or underscore ('_') could collide. To avoid issues it is best to use either, but not both.\n",
      "Created topic prediction_response.\n"
     ]
    }
   ],
   "source": [
    "#creating topic\n",
    "!/Applications/kafka_2.13-3.0.0/bin/kafka-topics.sh --create --topic prediction_response --bootstrap-server localhost:9092 --replication-factor 1 --partitions 1"
   ]
  },
  {
   "cell_type": "code",
   "execution_count": 5,
   "id": "4fbbfa06",
   "metadata": {},
   "outputs": [],
   "source": [
    "## read test data\n",
    "test_df = pd.read_csv('data/test_data.csv')\n",
    "y_test = test_df['Label'].values\n",
    "x_test = test_df.drop('Label', axis=1)\n",
    "x_test = np.reshape(x_test.values, (len(x_test), 28, 28))\n",
    "#initialize the producer\n",
    "producer = KafkaProducer(bootstrap_servers=['localhost:9092'],\n",
    "                        value_serializer=lambda x: \n",
    "                         dumps(x).encode('utf-8'))\n",
    "\n",
    "class_name = {0 : 'T-shirt/top', 1:'Trouser', 2:'Pullover', 3:'Dress', 4:'Coat',5:'Sandal', 6:'Shirt', \n",
    "             7: 'Sneaker', 8: 'Bag', 9:'Ankle Boot'}"
   ]
  },
  {
   "cell_type": "code",
   "execution_count": null,
   "id": "d2893273",
   "metadata": {},
   "outputs": [],
   "source": [
    "#consumer\n",
    "consumer = KafkaConsumer('request',\n",
    "                         bootstrap_servers=['localhost:9092'],\n",
    "                        value_deserializer=lambda x: loads(x.decode('utf-8')))\n",
    "for message in consumer:\n",
    "    image_idx = int(message.value)\n",
    "    if image_idx != None:\n",
    "        pred_result = class_name[prediction(x_test[image_idx], model_path='models/Resnet-18-epoch-2.pth')]\n",
    "        producer.send('prediction_response', value = 'Prediction Result: ' + pred_result)"
   ]
  },
  {
   "cell_type": "code",
   "execution_count": null,
   "id": "1710f731",
   "metadata": {},
   "outputs": [],
   "source": []
  }
 ],
 "metadata": {
  "kernelspec": {
   "display_name": "Python 3",
   "language": "python",
   "name": "python3"
  },
  "language_info": {
   "codemirror_mode": {
    "name": "ipython",
    "version": 3
   },
   "file_extension": ".py",
   "mimetype": "text/x-python",
   "name": "python",
   "nbconvert_exporter": "python",
   "pygments_lexer": "ipython3",
   "version": "3.8.8"
  }
 },
 "nbformat": 4,
 "nbformat_minor": 5
}
