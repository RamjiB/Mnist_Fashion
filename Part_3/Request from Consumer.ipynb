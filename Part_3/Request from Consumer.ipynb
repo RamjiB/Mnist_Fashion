{
 "cells": [
  {
   "cell_type": "code",
   "execution_count": 3,
   "id": "e8adbb75",
   "metadata": {},
   "outputs": [],
   "source": [
    "from kafka import KafkaProducer\n",
    "from time import sleep\n",
    "from json import dumps\n",
    "import numpy as np\n",
    "np.random.seed(41)"
   ]
  },
  {
   "cell_type": "code",
   "execution_count": 2,
   "id": "1a1c203d",
   "metadata": {},
   "outputs": [
    {
     "name": "stdout",
     "output_type": "stream",
     "text": [
      "Created topic request.\r\n"
     ]
    }
   ],
   "source": [
    "#creating topic\n",
    "!/Applications/kafka_2.13-3.0.0/bin/kafka-topics.sh --create --topic request --bootstrap-server localhost:9092 --replication-factor 1 --partitions 1"
   ]
  },
  {
   "cell_type": "code",
   "execution_count": 7,
   "id": "88b294c7",
   "metadata": {},
   "outputs": [],
   "source": [
    "#initialize the producer\n",
    "producer = KafkaProducer(bootstrap_servers=['localhost:9092'],\n",
    "                        value_serializer=lambda x: \n",
    "                         dumps(x).encode('utf-8'))\n",
    "\n",
    "#created a topic named part_1\n",
    "for i in np.random.choice(100, size = 5, replace=False):\n",
    "    producer.send('request', value = str(i))\n",
    "    sleep(2)\n",
    "producer.close()"
   ]
  },
  {
   "cell_type": "code",
   "execution_count": null,
   "id": "0fb8c6a4",
   "metadata": {},
   "outputs": [],
   "source": []
  }
 ],
 "metadata": {
  "kernelspec": {
   "display_name": "Python 3",
   "language": "python",
   "name": "python3"
  },
  "language_info": {
   "codemirror_mode": {
    "name": "ipython",
    "version": 3
   },
   "file_extension": ".py",
   "mimetype": "text/x-python",
   "name": "python",
   "nbconvert_exporter": "python",
   "pygments_lexer": "ipython3",
   "version": "3.8.8"
  }
 },
 "nbformat": 4,
 "nbformat_minor": 5
}
